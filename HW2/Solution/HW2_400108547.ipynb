{
  "cells": [
    {
      "cell_type": "markdown",
      "metadata": {
        "id": "IHZfoNCmBVO-"
      },
      "source": [
        "Name: Parham Rezaei\n",
        "</br>\n",
        "Student ID: 400108547"
      ]
    },
    {
      "cell_type": "markdown",
      "metadata": {
        "id": "Imp0o_BDMPc4"
      },
      "source": [
        "**Part 1**\n",
        "\n",
        " Write two functions named \"camera_matrix\" and \"camera_projection\". The first one gets all the camera parameters, containing λ, f (focal length), Sx, Sy, Sθ, Ox, Oy, R, T, and returns the camera matrix (Please provide comments above each stage of transformation). The second function projects a given 3D point on image and returns a 2D point in pixel coordinates."
      ]
    },
    {
      "cell_type": "code",
      "execution_count": 1,
      "metadata": {},
      "outputs": [],
      "source": [
        "import numpy as np"
      ]
    },
    {
      "cell_type": "code",
      "execution_count": 29,
      "metadata": {
        "id": "YCw0SrVcBRpe"
      },
      "outputs": [],
      "source": [
        "def camera_matrix(landa, f, Sx, Sy, S_theta, Ox, Oy, R, T):\n",
        "    # rotate and translate matrix\n",
        "    worldtocamera = np.array([[R[0][0], R[0][1], R[0][2], T[0]], [R[1][0], R[1][1], R[1][2], T[1]], [R[2][0], R[2][1], R[2][2], T[2]], [0, 0, 0, 1]])\n",
        "    \n",
        "    # extrinsic parameters\n",
        "    Kf = np.array([[f, 0, 0], [0, f, 0], [0, 0, 1]])\n",
        "    # intrinsic parameters\n",
        "    Ks = np.array([[Sx, S_theta, Ox], [0, Sy, Oy], [0, 0, 1]])\n",
        "    # project\n",
        "    pi0 = np.array([[1, 0, 0, 0], [0, 1, 0, 0], [0,0,1,0]])\n",
        "    # position\n",
        "    pos = np.matmul(pi0, worldtocamera)\n",
        "    # pinhole camera model\n",
        "    matx = np.matmul(Kf, pos)*landa\n",
        "    # pixel coordinates\n",
        "    mats = np.matmul(Ks, matx)\n",
        "    \n",
        "    return mats\n",
        "\n",
        "def camera_projection(X, Y, Z, matrix):\n",
        "\n",
        "    coord = np.array([[X], [Y], [Z], [1]])\n",
        "    project = np.matmul(matrix, coord)\n",
        "    \n",
        "    project = project/project[-1]\n",
        "    # removing last element\n",
        "    project = project[:-1].flatten()\n",
        "    return project\n",
        "\n"
      ]
    },
    {
      "cell_type": "markdown",
      "metadata": {
        "id": "sNDAg8TtSmHY"
      },
      "source": [
        "**Part 2**\n",
        "\n",
        "Consider a pinhole camera with center located at (1, 1, -3), which its focal length is 100, scale factors (Sx, Sy) are both 1 and pixel coordinates of principal point is (50, 50). Also skew parameter is zero. The angle of the camera is such that the optical axis of the camera is parallel to the z axis. Using the previous function obtain the whole camera matrix."
      ]
    },
    {
      "cell_type": "code",
      "execution_count": 30,
      "metadata": {
        "id": "hxfSKvOdTEe_"
      },
      "outputs": [
        {
          "name": "stdout",
          "output_type": "stream",
          "text": [
            "[[100.   0.  50.  50.]\n",
            " [  0. 100.  50.  50.]\n",
            " [  0.   0.   1.   3.]]\n"
          ]
        }
      ],
      "source": [
        "\n",
        "R = np.identity(3)\n",
        "T = np.array([-1,-1,3])\n",
        "cameraMatrix = camera_matrix(1, 100, 1, 1, 0, 50, 50, R, T)\n",
        "print(cameraMatrix)\n",
        "\n"
      ]
    },
    {
      "cell_type": "markdown",
      "metadata": {
        "id": "5jGzVpW-TFIb"
      },
      "source": [
        "**Part 3**\n",
        "\n",
        "Suppose that vector V: (0, 1, 1) is located at (1, 1, 3) in 3D space. Apply the obtained camera matrix to V. Plot the result in pixel coordinates in a 2D plot. From which step of projection the length of the vector changes?"
      ]
    },
    {
      "cell_type": "code",
      "execution_count": 33,
      "metadata": {
        "id": "hxRF8-MLTbFZ"
      },
      "outputs": [
        {
          "name": "stdout",
          "output_type": "stream",
          "text": [
            "(50.0,50.0) to (50.0,64.28571428571429)\n"
          ]
        },
        {
          "data": {
            "image/png": "[encoded data removed]",
            "text/plain": [
              "<Figure size 432x288 with 1 Axes>"
            ]
          },
          "metadata": {
            "needs_background": "light"
          },
          "output_type": "display_data"
        }
      ],
      "source": [
        "\n",
        "Vbegin = np.array([1,1,3])\n",
        "Vend = np.array([1,2,4])\n",
        "projbegin = camera_projection(Vbegin[0], Vbegin[1], Vbegin[2], cameraMatrix)\n",
        "projend = camera_projection(Vend[0], Vend[1], Vend[2], cameraMatrix)\n",
        "# plot\n",
        "import matplotlib.pyplot as plt\n",
        "print(f\"({projbegin[0]},{projbegin[1]}) to ({projend[0]},{projend[1]})\")\n",
        "plt.plot([projbegin[0], projend[0]], [projbegin[1], projend[1]])\n",
        "plt.axis([0,100,0,100])\n",
        "plt.show()\n"
      ]
    },
    {
      "cell_type": "markdown",
      "metadata": {},
      "source": [
        "تا مرحله شیفت و روتیشن اندازه بردار تغییری نمیکند اما پس از آن داریم که مقدار فاصله فوکال دارد ضرب می شود که موجب می شود اندازه جفت بردارها تغییر کند که به موجب آن به همان نسبت طول بردار نیز دارد تغییر می کند. همچنین از این استپ به بعد دیگر چون تبدیل ها یا افاین یا پروجکتیو اند دیگر اندازه ثابت نمی ماند.\n",
        "چون افاین لزوما زوایا و فاصله نقاط را حفظ نمی کند. "
      ]
    },
    {
      "cell_type": "code",
      "execution_count": 26,
      "metadata": {},
      "outputs": [
        {
          "name": "stdout",
          "output_type": "stream",
          "text": [
            "beginning length: \u001b[92m1.4142135623730951\u001b[0m\n",
            "after rotation and shift: \u001b[92m1.4142135623730951\u001b[0m\n",
            "after pi0: \u001b[92m1.4142135623730951\u001b[0m       \n",
            "after Kf: \u001b[91m100.00499987500625\u001b[0m\n",
            "after Ks: \u001b[93m158.117045254457\u001b[0m\n"
          ]
        }
      ],
      "source": [
        "# let's test my claim with some code\n",
        "vb = np.array([1,1,3,1])\n",
        "ve = np.array([1,2,4,1])\n",
        "length1 = np.linalg.norm(ve-vb)\n",
        "u = np.array([[R[0][0], R[0][1], R[0][2], T[0]], [R[1][0], R[1][1], R[1][2], T[1]], [R[2][0], R[2][1], R[2][2], T[2]], [0, 0, 0, 1]])\n",
        "vb = np.matmul(u,vb)\n",
        "ve = np.matmul(u,ve)\n",
        "length2 = np.linalg.norm(ve-vb)\n",
        "u = np.array([[1, 0, 0, 0], [0, 1, 0, 0], [0,0,1,0]])\n",
        "vb = np.matmul(u,vb)\n",
        "ve = np.matmul(u,ve)\n",
        "length3 = np.linalg.norm(ve-vb)\n",
        "u = np.array([[100, 0, 0], [0, 100, 0], [0, 0, 1]])\n",
        "vb = np.matmul(u,vb)\n",
        "ve = np.matmul(u,ve)\n",
        "length4 = np.linalg.norm(ve-vb)\n",
        "u = np.array([[1, 0, 50], [0, 1, 50], [0, 0, 1]])\n",
        "vb = np.matmul(u,vb)\n",
        "ve = np.matmul(u,ve)\n",
        "length5 = np.linalg.norm(ve-vb)\n",
        "print(f\"beginning length: \\033[92m{length1}\\033[0m\\nafter rotation and shift: \\033[92m{length2}\\033[0m\\nafter pi0: \\033[92m{length3}\\033[0m \\\n",
        "      \\nafter Kf: \\033[91m{length4}\\033[0m\\nafter Ks: \\033[93m{length5}\\033[0m\")"
      ]
    },
    {
      "cell_type": "markdown",
      "metadata": {},
      "source": [
        "مشاهده میکنیم تا زمان ضرب ماتریس های آر و تی و سپس ضرب پی صفر برای تبدیل از \n",
        "</br>\n",
        "$\\mathbb{R^{4*1}}$\n",
        "</br>\n",
        "به\n",
        "</br>\n",
        "$\\mathbb{R^{3*1}}$\n",
        "</br>\n",
        "داریم که اندازه تغییر نمیکند ولی از مرحله ضرب\n",
        "</br>\n",
        "$K_f$\n",
        "</br>\n",
        ".هربار اندازه تغییر میکند\n"
      ]
    },
    {
      "cell_type": "markdown",
      "metadata": {
        "id": "DhVMnoXWbYcM"
      },
      "source": [
        "**Part 4**\n",
        "\n",
        "If the camera is rotated by +25 degrees around x axis, how would R and T change? What would the final image be?"
      ]
    },
    {
      "cell_type": "code",
      "execution_count": 32,
      "metadata": {
        "id": "RWnW4HvgbhVB"
      },
      "outputs": [
        {
          "name": "stdout",
          "output_type": "stream",
          "text": [
            "(50.0,27.830533735706002) to (50.0,38.24896229424159)\n"
          ]
        },
        {
          "data": {
            "image/png": "[encoded data removed]",
            "text/plain": [
              "<Figure size 432x288 with 1 Axes>"
            ]
          },
          "metadata": {
            "needs_background": "light"
          },
          "output_type": "display_data"
        }
      ],
      "source": [
        "# T is the same\n",
        "R = np.array([[1, 0, 0], [0, np.cos(np.pi/180*25), -np.sin(np.pi/180*25)], [0, np.sin(np.pi/180*25), np.cos(np.pi/180*25)]])\n",
        "camera = camera_matrix(1, 100, 1, 1, 0, 50, 50, R, T)\n",
        "\n",
        "projbegin = camera_projection(Vbegin[0], Vbegin[1], Vbegin[2], camera)\n",
        "projend = camera_projection(Vend[0], Vend[1], Vend[2], camera)\n",
        "# plot\n",
        "print(f\"({projbegin[0]},{projbegin[1]}) to ({projend[0]},{projend[1]})\")\n",
        "plt.plot([projbegin[0], projend[0]], [projbegin[1], projend[1]])\n",
        "plt.axis([0,100,0,100])\n",
        "plt.show()"
      ]
    }
  ],
  "metadata": {
    "colab": {
      "provenance": []
    },
    "kernelspec": {
      "display_name": "Python 3",
      "name": "python3"
    },
    "language_info": {
      "codemirror_mode": {
        "name": "ipython",
        "version": 3
      },
      "file_extension": ".py",
      "mimetype": "text/x-python",
      "name": "python",
      "nbconvert_exporter": "python",
      "pygments_lexer": "ipython3",
      "version": "3.9.12"
    }
  },
  "nbformat": 4,
  "nbformat_minor": 0
}
